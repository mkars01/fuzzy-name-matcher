{
 "cells": [
  {
   "cell_type": "code",
   "execution_count": 1,
   "id": "bb367c70",
   "metadata": {},
   "outputs": [],
   "source": [
    "import pandas as pd\n",
    "import numpy as np\n",
    "import matplotlib.pyplot as plt\n",
    "import seaborn as sns\n",
    "from itertools import combinations\n",
    "import random\n",
    "import pandas_profiling\n",
    "from pandas_profiling.utils.cache import cache_file"
   ]
  },
  {
   "cell_type": "code",
   "execution_count": 2,
   "id": "89221741",
   "metadata": {},
   "outputs": [],
   "source": [
    "# External Data and Interim Data File Locations\n",
    "ext_data = '../data/external/'\n",
    "interim_data = '../data/interim/'\n",
    "report_figures = '../reports/figures/'"
   ]
  },
  {
   "cell_type": "code",
   "execution_count": 3,
   "id": "d60aee5c",
   "metadata": {},
   "outputs": [
    {
     "data": {
      "text/plain": [
       "(17510, 2)"
      ]
     },
     "execution_count": 3,
     "metadata": {},
     "output_type": "execute_result"
    }
   ],
   "source": [
    "df = pd.read_csv(ext_data + 'name_pairs.txt', sep=\",\", names=['name_a', 'name_b'], header=None)\n",
    "df.shape"
   ]
  },
  {
   "cell_type": "code",
   "execution_count": 4,
   "id": "da2de44f",
   "metadata": {},
   "outputs": [
    {
     "name": "stdout",
     "output_type": "stream",
     "text": [
      "<class 'pandas.core.frame.DataFrame'>\n",
      "RangeIndex: 17510 entries, 0 to 17509\n",
      "Data columns (total 2 columns):\n",
      " #   Column  Non-Null Count  Dtype \n",
      "---  ------  --------------  ----- \n",
      " 0   name_a  17510 non-null  object\n",
      " 1   name_b  17510 non-null  object\n",
      "dtypes: object(2)\n",
      "memory usage: 273.7+ KB\n"
     ]
    }
   ],
   "source": [
    "df.info()"
   ]
  },
  {
   "cell_type": "code",
   "execution_count": 5,
   "id": "2b6fbb01",
   "metadata": {},
   "outputs": [
    {
     "data": {
      "text/html": [
       "<div>\n",
       "<style scoped>\n",
       "    .dataframe tbody tr th:only-of-type {\n",
       "        vertical-align: middle;\n",
       "    }\n",
       "\n",
       "    .dataframe tbody tr th {\n",
       "        vertical-align: top;\n",
       "    }\n",
       "\n",
       "    .dataframe thead th {\n",
       "        text-align: right;\n",
       "    }\n",
       "</style>\n",
       "<table border=\"1\" class=\"dataframe\">\n",
       "  <thead>\n",
       "    <tr style=\"text-align: right;\">\n",
       "      <th></th>\n",
       "      <th>name_a</th>\n",
       "      <th>name_b</th>\n",
       "    </tr>\n",
       "  </thead>\n",
       "  <tbody>\n",
       "    <tr>\n",
       "      <th>360</th>\n",
       "      <td>Aleksej</td>\n",
       "      <td>Ales</td>\n",
       "    </tr>\n",
       "    <tr>\n",
       "      <th>16896</th>\n",
       "      <td>Vucko</td>\n",
       "      <td>Vuki</td>\n",
       "    </tr>\n",
       "    <tr>\n",
       "      <th>10027</th>\n",
       "      <td>Marcela</td>\n",
       "      <td>Celinha</td>\n",
       "    </tr>\n",
       "    <tr>\n",
       "      <th>11614</th>\n",
       "      <td>Minjan</td>\n",
       "      <td>Mil</td>\n",
       "    </tr>\n",
       "    <tr>\n",
       "      <th>4398</th>\n",
       "      <td>Elsie</td>\n",
       "      <td>Betty</td>\n",
       "    </tr>\n",
       "    <tr>\n",
       "      <th>1688</th>\n",
       "      <td>Bert</td>\n",
       "      <td>Hugo</td>\n",
       "    </tr>\n",
       "    <tr>\n",
       "      <th>1913</th>\n",
       "      <td>Bitse</td>\n",
       "      <td>Besse</td>\n",
       "    </tr>\n",
       "    <tr>\n",
       "      <th>10662</th>\n",
       "      <td>Mat</td>\n",
       "      <td>Marte</td>\n",
       "    </tr>\n",
       "    <tr>\n",
       "      <th>10204</th>\n",
       "      <td>Mari</td>\n",
       "      <td>Maria</td>\n",
       "    </tr>\n",
       "    <tr>\n",
       "      <th>8025</th>\n",
       "      <td>Katie</td>\n",
       "      <td>Katherine</td>\n",
       "    </tr>\n",
       "  </tbody>\n",
       "</table>\n",
       "</div>"
      ],
      "text/plain": [
       "        name_a     name_b\n",
       "360    Aleksej       Ales\n",
       "16896    Vucko       Vuki\n",
       "10027  Marcela    Celinha\n",
       "11614   Minjan        Mil\n",
       "4398     Elsie      Betty\n",
       "1688      Bert       Hugo\n",
       "1913     Bitse      Besse\n",
       "10662      Mat      Marte\n",
       "10204     Mari      Maria\n",
       "8025     Katie  Katherine"
      ]
     },
     "execution_count": 5,
     "metadata": {},
     "output_type": "execute_result"
    }
   ],
   "source": [
    "df.sample(10)"
   ]
  },
  {
   "cell_type": "code",
   "execution_count": 6,
   "id": "10167b2a",
   "metadata": {},
   "outputs": [],
   "source": [
    "# Positive Class\n",
    "df['target'] = 1"
   ]
  },
  {
   "cell_type": "markdown",
   "id": "c8f88a8b",
   "metadata": {},
   "source": [
    "### Create Random Sample of Negative Class"
   ]
  },
  {
   "cell_type": "code",
   "execution_count": 7,
   "id": "f74d933d",
   "metadata": {},
   "outputs": [
    {
     "name": "stdout",
     "output_type": "stream",
     "text": [
      "17510\n"
     ]
    },
    {
     "data": {
      "text/plain": [
       "[['Aad', 'Adriaan'],\n",
       " ['Aake', 'Aarne'],\n",
       " ['Aake', 'Aarno'],\n",
       " ['Aake', 'Arska'],\n",
       " ['Aandrea', 'Drea']]"
      ]
     },
     "execution_count": 7,
     "metadata": {},
     "output_type": "execute_result"
    }
   ],
   "source": [
    "all_names = df.loc[:, 'name_a':'name_b'].values.tolist()\n",
    "print(len(all_names))\n",
    "all_names[:5]"
   ]
  },
  {
   "cell_type": "code",
   "execution_count": 8,
   "id": "2622b10d",
   "metadata": {},
   "outputs": [
    {
     "name": "stdout",
     "output_type": "stream",
     "text": [
      "5877\n"
     ]
    },
    {
     "data": {
      "text/plain": [
       "['Anyuta', 'Daco', 'Kami', 'Schorsc', 'Yevgeny']"
      ]
     },
     "execution_count": 8,
     "metadata": {},
     "output_type": "execute_result"
    }
   ],
   "source": [
    "unique_names = list(set([item for items in all_names for item in items]))\n",
    "print(len(unique_names))\n",
    "unique_names[:5]"
   ]
  },
  {
   "cell_type": "code",
   "execution_count": 9,
   "id": "cbc38f8c",
   "metadata": {},
   "outputs": [
    {
     "name": "stdout",
     "output_type": "stream",
     "text": [
      "35020\n"
     ]
    },
    {
     "data": {
      "text/plain": [
       "[('Aad', 'Adriaan'),\n",
       " ('Aake', 'Aarne'),\n",
       " ('Aake', 'Aarno'),\n",
       " ('Aake', 'Arska'),\n",
       " ('Aandrea', 'Drea')]"
      ]
     },
     "execution_count": 9,
     "metadata": {},
     "output_type": "execute_result"
    }
   ],
   "source": [
    "alt_pairs = list(zip(df.name_a, df.name_b))+ list(zip(df.name_b, df.name_a))\n",
    "print(len(alt_pairs))\n",
    "alt_pairs[:5]"
   ]
  },
  {
   "cell_type": "code",
   "execution_count": 10,
   "id": "0beddc52",
   "metadata": {},
   "outputs": [
    {
     "name": "stdout",
     "output_type": "stream",
     "text": [
      "17266626\n"
     ]
    },
    {
     "data": {
      "text/plain": [
       "[('Anyuta', 'Daco'),\n",
       " ('Anyuta', 'Kami'),\n",
       " ('Anyuta', 'Schorsc'),\n",
       " ('Anyuta', 'Yevgeny'),\n",
       " ('Anyuta', 'Makha')]"
      ]
     },
     "execution_count": 10,
     "metadata": {},
     "output_type": "execute_result"
    }
   ],
   "source": [
    "comb = list(combinations(unique_names, 2))\n",
    "print(len(comb))\n",
    "comb[:5]"
   ]
  },
  {
   "cell_type": "code",
   "execution_count": 11,
   "id": "f80862bf",
   "metadata": {},
   "outputs": [
    {
     "name": "stdout",
     "output_type": "stream",
     "text": [
      "17249462\n"
     ]
    },
    {
     "data": {
      "text/plain": [
       "[('Julien', 'Susse'),\n",
       " ('Henrietta', 'Lizbeth'),\n",
       " ('Tolu', 'Danilo'),\n",
       " ('Radostina', 'Hele'),\n",
       " ('Viorel', 'Jase')]"
      ]
     },
     "execution_count": 11,
     "metadata": {},
     "output_type": "execute_result"
    }
   ],
   "source": [
    "non_alt = list(set(comb) - set(alt_pairs))\n",
    "print(len(non_alt))\n",
    "non_alt[:5]"
   ]
  },
  {
   "cell_type": "code",
   "execution_count": 12,
   "id": "4d2df3c3",
   "metadata": {},
   "outputs": [
    {
     "data": {
      "text/plain": [
       "(70040, 2)"
      ]
     },
     "execution_count": 12,
     "metadata": {},
     "output_type": "execute_result"
    }
   ],
   "source": [
    "# Undersample the negative class for 1:4 class imbalance instead of 1:1000 extreme class imbalance\n",
    "non_alt = pd.DataFrame(random.choices(non_alt, k=70040), columns=['name_a', 'name_b'])\n",
    "non_alt.shape"
   ]
  },
  {
   "cell_type": "code",
   "execution_count": 13,
   "id": "766bd643",
   "metadata": {},
   "outputs": [],
   "source": [
    "# Negative Class\n",
    "non_alt['target'] = 0"
   ]
  },
  {
   "cell_type": "code",
   "execution_count": 14,
   "id": "7a1ccf0d",
   "metadata": {},
   "outputs": [
    {
     "data": {
      "text/html": [
       "<div>\n",
       "<style scoped>\n",
       "    .dataframe tbody tr th:only-of-type {\n",
       "        vertical-align: middle;\n",
       "    }\n",
       "\n",
       "    .dataframe tbody tr th {\n",
       "        vertical-align: top;\n",
       "    }\n",
       "\n",
       "    .dataframe thead th {\n",
       "        text-align: right;\n",
       "    }\n",
       "</style>\n",
       "<table border=\"1\" class=\"dataframe\">\n",
       "  <thead>\n",
       "    <tr style=\"text-align: right;\">\n",
       "      <th></th>\n",
       "      <th>name_a</th>\n",
       "      <th>name_b</th>\n",
       "      <th>target</th>\n",
       "    </tr>\n",
       "  </thead>\n",
       "  <tbody>\n",
       "    <tr>\n",
       "      <th>26764</th>\n",
       "      <td>Seryozhka</td>\n",
       "      <td>Henio</td>\n",
       "      <td>0</td>\n",
       "    </tr>\n",
       "    <tr>\n",
       "      <th>62840</th>\n",
       "      <td>Tasko</td>\n",
       "      <td>Dosla</td>\n",
       "      <td>0</td>\n",
       "    </tr>\n",
       "    <tr>\n",
       "      <th>62606</th>\n",
       "      <td>Milijana</td>\n",
       "      <td>Gilbert</td>\n",
       "      <td>0</td>\n",
       "    </tr>\n",
       "    <tr>\n",
       "      <th>56685</th>\n",
       "      <td>Guillo</td>\n",
       "      <td>Wilhelm</td>\n",
       "      <td>0</td>\n",
       "    </tr>\n",
       "    <tr>\n",
       "      <th>6331</th>\n",
       "      <td>Romek</td>\n",
       "      <td>Alfonso</td>\n",
       "      <td>0</td>\n",
       "    </tr>\n",
       "    <tr>\n",
       "      <th>43755</th>\n",
       "      <td>Varvarik</td>\n",
       "      <td>Zebulon</td>\n",
       "      <td>0</td>\n",
       "    </tr>\n",
       "    <tr>\n",
       "      <th>69840</th>\n",
       "      <td>Rosemary</td>\n",
       "      <td>Chisu</td>\n",
       "      <td>0</td>\n",
       "    </tr>\n",
       "    <tr>\n",
       "      <th>47777</th>\n",
       "      <td>Leticia</td>\n",
       "      <td>Anatoly</td>\n",
       "      <td>0</td>\n",
       "    </tr>\n",
       "    <tr>\n",
       "      <th>38613</th>\n",
       "      <td>Barry</td>\n",
       "      <td>Joakim</td>\n",
       "      <td>0</td>\n",
       "    </tr>\n",
       "    <tr>\n",
       "      <th>52628</th>\n",
       "      <td>Micah</td>\n",
       "      <td>Von</td>\n",
       "      <td>0</td>\n",
       "    </tr>\n",
       "  </tbody>\n",
       "</table>\n",
       "</div>"
      ],
      "text/plain": [
       "          name_a   name_b  target\n",
       "26764  Seryozhka    Henio       0\n",
       "62840      Tasko    Dosla       0\n",
       "62606   Milijana  Gilbert       0\n",
       "56685     Guillo  Wilhelm       0\n",
       "6331       Romek  Alfonso       0\n",
       "43755   Varvarik  Zebulon       0\n",
       "69840   Rosemary    Chisu       0\n",
       "47777    Leticia  Anatoly       0\n",
       "38613      Barry   Joakim       0\n",
       "52628      Micah      Von       0"
      ]
     },
     "execution_count": 14,
     "metadata": {},
     "output_type": "execute_result"
    }
   ],
   "source": [
    "non_alt.sample(10)"
   ]
  },
  {
   "cell_type": "code",
   "execution_count": 15,
   "id": "4deee7dd",
   "metadata": {},
   "outputs": [
    {
     "name": "stdout",
     "output_type": "stream",
     "text": [
      "positive class ratio 1:4\n"
     ]
    }
   ],
   "source": [
    "print('positive class ratio 1:{}'.format(int(len(non_alt)/len(df))))"
   ]
  },
  {
   "cell_type": "code",
   "execution_count": 16,
   "id": "281228c9",
   "metadata": {},
   "outputs": [
    {
     "data": {
      "text/plain": [
       "(87550, 3)"
      ]
     },
     "execution_count": 16,
     "metadata": {},
     "output_type": "execute_result"
    }
   ],
   "source": [
    "df = pd.concat([df, non_alt])\n",
    "df.shape"
   ]
  },
  {
   "cell_type": "code",
   "execution_count": 17,
   "id": "d2745799",
   "metadata": {},
   "outputs": [
    {
     "data": {
      "text/html": [
       "<div>\n",
       "<style scoped>\n",
       "    .dataframe tbody tr th:only-of-type {\n",
       "        vertical-align: middle;\n",
       "    }\n",
       "\n",
       "    .dataframe tbody tr th {\n",
       "        vertical-align: top;\n",
       "    }\n",
       "\n",
       "    .dataframe thead th {\n",
       "        text-align: right;\n",
       "    }\n",
       "</style>\n",
       "<table border=\"1\" class=\"dataframe\">\n",
       "  <thead>\n",
       "    <tr style=\"text-align: right;\">\n",
       "      <th></th>\n",
       "      <th>name_a</th>\n",
       "      <th>name_b</th>\n",
       "      <th>target</th>\n",
       "    </tr>\n",
       "  </thead>\n",
       "  <tbody>\n",
       "    <tr>\n",
       "      <th>31</th>\n",
       "      <td>Maura</td>\n",
       "      <td>Victor</td>\n",
       "      <td>0</td>\n",
       "    </tr>\n",
       "    <tr>\n",
       "      <th>25800</th>\n",
       "      <td>Mitka</td>\n",
       "      <td>Roderick</td>\n",
       "      <td>0</td>\n",
       "    </tr>\n",
       "    <tr>\n",
       "      <th>42233</th>\n",
       "      <td>Lib</td>\n",
       "      <td>Jehu</td>\n",
       "      <td>0</td>\n",
       "    </tr>\n",
       "    <tr>\n",
       "      <th>27372</th>\n",
       "      <td>Joci</td>\n",
       "      <td>Flick</td>\n",
       "      <td>0</td>\n",
       "    </tr>\n",
       "    <tr>\n",
       "      <th>16765</th>\n",
       "      <td>Virge</td>\n",
       "      <td>Genevieve</td>\n",
       "      <td>1</td>\n",
       "    </tr>\n",
       "    <tr>\n",
       "      <th>27748</th>\n",
       "      <td>Ruza</td>\n",
       "      <td>Jennet</td>\n",
       "      <td>0</td>\n",
       "    </tr>\n",
       "    <tr>\n",
       "      <th>14316</th>\n",
       "      <td>Honza</td>\n",
       "      <td>Chepe</td>\n",
       "      <td>0</td>\n",
       "    </tr>\n",
       "    <tr>\n",
       "      <th>44043</th>\n",
       "      <td>Bess</td>\n",
       "      <td>Tobbe</td>\n",
       "      <td>0</td>\n",
       "    </tr>\n",
       "    <tr>\n",
       "      <th>22322</th>\n",
       "      <td>Zacharias</td>\n",
       "      <td>Bengt</td>\n",
       "      <td>0</td>\n",
       "    </tr>\n",
       "    <tr>\n",
       "      <th>54115</th>\n",
       "      <td>Tamzine</td>\n",
       "      <td>Julot</td>\n",
       "      <td>0</td>\n",
       "    </tr>\n",
       "  </tbody>\n",
       "</table>\n",
       "</div>"
      ],
      "text/plain": [
       "          name_a     name_b  target\n",
       "31         Maura     Victor       0\n",
       "25800      Mitka   Roderick       0\n",
       "42233        Lib       Jehu       0\n",
       "27372       Joci      Flick       0\n",
       "16765      Virge  Genevieve       1\n",
       "27748       Ruza     Jennet       0\n",
       "14316      Honza      Chepe       0\n",
       "44043       Bess      Tobbe       0\n",
       "22322  Zacharias      Bengt       0\n",
       "54115    Tamzine      Julot       0"
      ]
     },
     "execution_count": 17,
     "metadata": {},
     "output_type": "execute_result"
    }
   ],
   "source": [
    "df.sample(10)"
   ]
  },
  {
   "cell_type": "code",
   "execution_count": 18,
   "id": "efff05d5",
   "metadata": {},
   "outputs": [
    {
     "data": {
      "text/plain": [
       "Text(0.5, 0, 'Count')"
      ]
     },
     "execution_count": 18,
     "metadata": {},
     "output_type": "execute_result"
    },
    {
     "data": {
      "image/png": "[encoded data removed]",
      "text/plain": [
       "<Figure size 640x480 with 1 Axes>"
      ]
     },
     "metadata": {},
     "output_type": "display_data"
    }
   ],
   "source": [
    "ax = df.target.value_counts(dropna=False).plot(kind='barh', title='Positive / Negative Classes')\n",
    "ax.set_xlabel('Count')"
   ]
  },
  {
   "cell_type": "code",
   "execution_count": 19,
   "id": "a25e2e03",
   "metadata": {},
   "outputs": [],
   "source": [
    "# Save output to interim data folder as csv file\n",
    "df.to_csv(interim_data + 'pos_neg_class_file.csv', index=False)"
   ]
  },
  {
   "cell_type": "code",
   "execution_count": 20,
   "id": "17fba153",
   "metadata": {},
   "outputs": [
    {
     "data": {
      "application/vnd.jupyter.widget-view+json": {
       "model_id": "47c62cb01b0743b88580bcf18ab72944",
       "version_major": 2,
       "version_minor": 0
      },
      "text/plain": [
       "Summarize dataset:   0%|          | 0/18 [00:00<?, ?it/s]"
      ]
     },
     "metadata": {},
     "output_type": "display_data"
    },
    {
     "data": {
      "application/vnd.jupyter.widget-view+json": {
       "model_id": "a98b0b2fcb2144b0b4bd32c9471da817",
       "version_major": 2,
       "version_minor": 0
      },
      "text/plain": [
       "Generate report structure:   0%|          | 0/1 [00:00<?, ?it/s]"
      ]
     },
     "metadata": {},
     "output_type": "display_data"
    },
    {
     "data": {
      "application/vnd.jupyter.widget-view+json": {
       "model_id": "b89c8c6dfc5841a4ba5e8fda888064d3",
       "version_major": 2,
       "version_minor": 0
      },
      "text/plain": [
       "Render HTML:   0%|          | 0/1 [00:00<?, ?it/s]"
      ]
     },
     "metadata": {},
     "output_type": "display_data"
    },
    {
     "data": {
      "application/vnd.jupyter.widget-view+json": {
       "model_id": "8c40f7511b724ae1b349599f3fd95c1e",
       "version_major": 2,
       "version_minor": 0
      },
      "text/plain": [
       "Export report to file:   0%|          | 0/1 [00:00<?, ?it/s]"
      ]
     },
     "metadata": {},
     "output_type": "display_data"
    }
   ],
   "source": [
    "profile_report = df.profile_report(explorative=True, html={'style': {'full_width': True}})\n",
    "profile_report.to_file(report_figures + \"wrangled_data_profile.html\")"
   ]
  }
 ],
 "metadata": {
  "kernelspec": {
   "display_name": "Python 3 (ipykernel)",
   "language": "python",
   "name": "python3"
  },
  "language_info": {
   "codemirror_mode": {
    "name": "ipython",
    "version": 3
   },
   "file_extension": ".py",
   "mimetype": "text/x-python",
   "name": "python",
   "nbconvert_exporter": "python",
   "pygments_lexer": "ipython3",
   "version": "3.8.13"
  }
 },
 "nbformat": 4,
 "nbformat_minor": 5
}
