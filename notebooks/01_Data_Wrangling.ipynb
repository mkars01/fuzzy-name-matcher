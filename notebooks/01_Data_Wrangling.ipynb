{
 "cells": [
  {
   "cell_type": "code",
   "execution_count": 1,
   "id": "bb367c70",
   "metadata": {},
   "outputs": [
    {
     "name": "stderr",
     "output_type": "stream",
     "text": [
      "/opt/conda/lib/python3.7/site-packages/tqdm/auto.py:22: TqdmWarning: IProgress not found. Please update jupyter and ipywidgets. See https://ipywidgets.readthedocs.io/en/stable/user_install.html\n",
      "  from .autonotebook import tqdm as notebook_tqdm\n"
     ]
    }
   ],
   "source": [
    "import pandas as pd\n",
    "import numpy as np\n",
    "import matplotlib.pyplot as plt\n",
    "import seaborn as sns\n",
    "from itertools import combinations\n",
    "import random\n",
    "import pandas_profiling\n",
    "from pandas_profiling.utils.cache import cache_file"
   ]
  },
  {
   "cell_type": "code",
   "execution_count": 2,
   "id": "89221741",
   "metadata": {},
   "outputs": [],
   "source": [
    "# External Data and Interim Data File Locations\n",
    "ext_data = '../data/external/'\n",
    "interim_data = '../data/interim/'\n",
    "report_figures = '../reports/figures/'"
   ]
  },
  {
   "cell_type": "code",
   "execution_count": 3,
   "id": "d60aee5c",
   "metadata": {},
   "outputs": [
    {
     "data": {
      "text/plain": [
       "(17510, 2)"
      ]
     },
     "execution_count": 3,
     "metadata": {},
     "output_type": "execute_result"
    }
   ],
   "source": [
    "df = pd.read_csv(ext_data + 'name_pairs.txt', sep=\",\", names=['name_a', 'name_b'], header=None)\n",
    "df.shape"
   ]
  },
  {
   "cell_type": "code",
   "execution_count": 4,
   "id": "da2de44f",
   "metadata": {},
   "outputs": [
    {
     "name": "stdout",
     "output_type": "stream",
     "text": [
      "<class 'pandas.core.frame.DataFrame'>\n",
      "RangeIndex: 17510 entries, 0 to 17509\n",
      "Data columns (total 2 columns):\n",
      " #   Column  Non-Null Count  Dtype \n",
      "---  ------  --------------  ----- \n",
      " 0   name_a  17510 non-null  object\n",
      " 1   name_b  17510 non-null  object\n",
      "dtypes: object(2)\n",
      "memory usage: 273.7+ KB\n"
     ]
    }
   ],
   "source": [
    "df.info()"
   ]
  },
  {
   "cell_type": "code",
   "execution_count": 5,
   "id": "2b6fbb01",
   "metadata": {},
   "outputs": [
    {
     "data": {
      "text/html": [
       "<div>\n",
       "<style scoped>\n",
       "    .dataframe tbody tr th:only-of-type {\n",
       "        vertical-align: middle;\n",
       "    }\n",
       "\n",
       "    .dataframe tbody tr th {\n",
       "        vertical-align: top;\n",
       "    }\n",
       "\n",
       "    .dataframe thead th {\n",
       "        text-align: right;\n",
       "    }\n",
       "</style>\n",
       "<table border=\"1\" class=\"dataframe\">\n",
       "  <thead>\n",
       "    <tr style=\"text-align: right;\">\n",
       "      <th></th>\n",
       "      <th>name_a</th>\n",
       "      <th>name_b</th>\n",
       "    </tr>\n",
       "  </thead>\n",
       "  <tbody>\n",
       "    <tr>\n",
       "      <th>9380</th>\n",
       "      <td>Lu</td>\n",
       "      <td>Lucinda</td>\n",
       "    </tr>\n",
       "    <tr>\n",
       "      <th>4970</th>\n",
       "      <td>Freda</td>\n",
       "      <td>Fredde</td>\n",
       "    </tr>\n",
       "    <tr>\n",
       "      <th>15371</th>\n",
       "      <td>Styopushka</td>\n",
       "      <td>Styopanka</td>\n",
       "    </tr>\n",
       "    <tr>\n",
       "      <th>16073</th>\n",
       "      <td>Titi</td>\n",
       "      <td>Tiffany</td>\n",
       "    </tr>\n",
       "    <tr>\n",
       "      <th>62</th>\n",
       "      <td>Abigail</td>\n",
       "      <td>Tabitha</td>\n",
       "    </tr>\n",
       "    <tr>\n",
       "      <th>16497</th>\n",
       "      <td>Vanessa</td>\n",
       "      <td>Van</td>\n",
       "    </tr>\n",
       "    <tr>\n",
       "      <th>947</th>\n",
       "      <td>Annie</td>\n",
       "      <td>Anna</td>\n",
       "    </tr>\n",
       "    <tr>\n",
       "      <th>8251</th>\n",
       "      <td>Kolyunya</td>\n",
       "      <td>Nikolasha</td>\n",
       "    </tr>\n",
       "    <tr>\n",
       "      <th>8971</th>\n",
       "      <td>Linde</td>\n",
       "      <td>Minde</td>\n",
       "    </tr>\n",
       "    <tr>\n",
       "      <th>13296</th>\n",
       "      <td>Petra</td>\n",
       "      <td>Nelleke</td>\n",
       "    </tr>\n",
       "  </tbody>\n",
       "</table>\n",
       "</div>"
      ],
      "text/plain": [
       "           name_a     name_b\n",
       "9380           Lu    Lucinda\n",
       "4970        Freda     Fredde\n",
       "15371  Styopushka  Styopanka\n",
       "16073        Titi    Tiffany\n",
       "62        Abigail    Tabitha\n",
       "16497     Vanessa        Van\n",
       "947         Annie       Anna\n",
       "8251     Kolyunya  Nikolasha\n",
       "8971        Linde      Minde\n",
       "13296       Petra    Nelleke"
      ]
     },
     "execution_count": 5,
     "metadata": {},
     "output_type": "execute_result"
    }
   ],
   "source": [
    "df.sample(10)"
   ]
  },
  {
   "cell_type": "code",
   "execution_count": 6,
   "id": "10167b2a",
   "metadata": {},
   "outputs": [],
   "source": [
    "# Positive Class\n",
    "df['target'] = 1"
   ]
  },
  {
   "cell_type": "markdown",
   "id": "c8f88a8b",
   "metadata": {},
   "source": [
    "### Create Random Sample of Negative Class"
   ]
  },
  {
   "cell_type": "code",
   "execution_count": 7,
   "id": "f74d933d",
   "metadata": {},
   "outputs": [
    {
     "name": "stdout",
     "output_type": "stream",
     "text": [
      "17510\n"
     ]
    },
    {
     "data": {
      "text/plain": [
       "[['Aad', 'Adriaan'],\n",
       " ['Aake', 'Aarne'],\n",
       " ['Aake', 'Aarno'],\n",
       " ['Aake', 'Arska'],\n",
       " ['Aandrea', 'Drea']]"
      ]
     },
     "execution_count": 7,
     "metadata": {},
     "output_type": "execute_result"
    }
   ],
   "source": [
    "all_names = df.loc[:, 'name_a':'name_b'].values.tolist()\n",
    "print(len(all_names))\n",
    "all_names[:5]"
   ]
  },
  {
   "cell_type": "code",
   "execution_count": 8,
   "id": "2622b10d",
   "metadata": {},
   "outputs": [
    {
     "name": "stdout",
     "output_type": "stream",
     "text": [
      "5877\n"
     ]
    },
    {
     "data": {
      "text/plain": [
       "['Joco', 'Tunja', 'Biel', 'Anastazie', 'Nick']"
      ]
     },
     "execution_count": 8,
     "metadata": {},
     "output_type": "execute_result"
    }
   ],
   "source": [
    "unique_names = list(set([item for items in all_names for item in items]))\n",
    "print(len(unique_names))\n",
    "unique_names[:5]"
   ]
  },
  {
   "cell_type": "code",
   "execution_count": 9,
   "id": "cbc38f8c",
   "metadata": {},
   "outputs": [
    {
     "name": "stdout",
     "output_type": "stream",
     "text": [
      "35020\n"
     ]
    },
    {
     "data": {
      "text/plain": [
       "[('Aad', 'Adriaan'),\n",
       " ('Aake', 'Aarne'),\n",
       " ('Aake', 'Aarno'),\n",
       " ('Aake', 'Arska'),\n",
       " ('Aandrea', 'Drea')]"
      ]
     },
     "execution_count": 9,
     "metadata": {},
     "output_type": "execute_result"
    }
   ],
   "source": [
    "alt_pairs = list(zip(df.name_a, df.name_b))+ list(zip(df.name_b, df.name_a))\n",
    "print(len(alt_pairs))\n",
    "alt_pairs[:5]"
   ]
  },
  {
   "cell_type": "code",
   "execution_count": 10,
   "id": "0beddc52",
   "metadata": {},
   "outputs": [
    {
     "name": "stdout",
     "output_type": "stream",
     "text": [
      "17266626\n"
     ]
    },
    {
     "data": {
      "text/plain": [
       "[('Joco', 'Tunja'),\n",
       " ('Joco', 'Biel'),\n",
       " ('Joco', 'Anastazie'),\n",
       " ('Joco', 'Nick'),\n",
       " ('Joco', 'Maxie')]"
      ]
     },
     "execution_count": 10,
     "metadata": {},
     "output_type": "execute_result"
    }
   ],
   "source": [
    "comb = list(combinations(unique_names, 2))\n",
    "print(len(comb))\n",
    "comb[:5]"
   ]
  },
  {
   "cell_type": "code",
   "execution_count": 11,
   "id": "f80862bf",
   "metadata": {},
   "outputs": [
    {
     "name": "stdout",
     "output_type": "stream",
     "text": [
      "17249462\n"
     ]
    },
    {
     "data": {
      "text/plain": [
       "[('Zadock', 'Jaroslaw'),\n",
       " ('Terry', 'Gigi'),\n",
       " ('Rodri', 'Con'),\n",
       " ('Nikke', 'Jaclin'),\n",
       " ('Krzysieczek', 'Yosi')]"
      ]
     },
     "execution_count": 11,
     "metadata": {},
     "output_type": "execute_result"
    }
   ],
   "source": [
    "non_alt = list(set(comb) - set(alt_pairs))\n",
    "print(len(non_alt))\n",
    "non_alt[:5]"
   ]
  },
  {
   "cell_type": "code",
   "execution_count": 12,
   "id": "4d2df3c3",
   "metadata": {},
   "outputs": [
    {
     "data": {
      "text/plain": [
       "(70040, 2)"
      ]
     },
     "execution_count": 12,
     "metadata": {},
     "output_type": "execute_result"
    }
   ],
   "source": [
    "# Undersample the negative class for 1:4 class imbalance instead of 1:1000 extreme class imbalance\n",
    "non_alt = pd.DataFrame(random.choices(non_alt, k=70040), columns=['name_a', 'name_b'])\n",
    "non_alt.shape"
   ]
  },
  {
   "cell_type": "code",
   "execution_count": 13,
   "id": "766bd643",
   "metadata": {},
   "outputs": [],
   "source": [
    "# Negative Class\n",
    "non_alt['target'] = 0"
   ]
  },
  {
   "cell_type": "code",
   "execution_count": 14,
   "id": "7a1ccf0d",
   "metadata": {},
   "outputs": [
    {
     "data": {
      "text/html": [
       "<div>\n",
       "<style scoped>\n",
       "    .dataframe tbody tr th:only-of-type {\n",
       "        vertical-align: middle;\n",
       "    }\n",
       "\n",
       "    .dataframe tbody tr th {\n",
       "        vertical-align: top;\n",
       "    }\n",
       "\n",
       "    .dataframe thead th {\n",
       "        text-align: right;\n",
       "    }\n",
       "</style>\n",
       "<table border=\"1\" class=\"dataframe\">\n",
       "  <thead>\n",
       "    <tr style=\"text-align: right;\">\n",
       "      <th></th>\n",
       "      <th>name_a</th>\n",
       "      <th>name_b</th>\n",
       "      <th>target</th>\n",
       "    </tr>\n",
       "  </thead>\n",
       "  <tbody>\n",
       "    <tr>\n",
       "      <th>40594</th>\n",
       "      <td>Drazo</td>\n",
       "      <td>Burt</td>\n",
       "      <td>0</td>\n",
       "    </tr>\n",
       "    <tr>\n",
       "      <th>5087</th>\n",
       "      <td>Mose</td>\n",
       "      <td>Miguelinho</td>\n",
       "      <td>0</td>\n",
       "    </tr>\n",
       "    <tr>\n",
       "      <th>30191</th>\n",
       "      <td>Nina</td>\n",
       "      <td>Electra</td>\n",
       "      <td>0</td>\n",
       "    </tr>\n",
       "    <tr>\n",
       "      <th>6539</th>\n",
       "      <td>Anneliese</td>\n",
       "      <td>Alphus</td>\n",
       "      <td>0</td>\n",
       "    </tr>\n",
       "    <tr>\n",
       "      <th>5571</th>\n",
       "      <td>Hermoine</td>\n",
       "      <td>Jouni</td>\n",
       "      <td>0</td>\n",
       "    </tr>\n",
       "    <tr>\n",
       "      <th>61874</th>\n",
       "      <td>Hob</td>\n",
       "      <td>Nicke</td>\n",
       "      <td>0</td>\n",
       "    </tr>\n",
       "    <tr>\n",
       "      <th>58522</th>\n",
       "      <td>Nadenka</td>\n",
       "      <td>Kristian</td>\n",
       "      <td>0</td>\n",
       "    </tr>\n",
       "    <tr>\n",
       "      <th>26993</th>\n",
       "      <td>Jacint</td>\n",
       "      <td>Othello</td>\n",
       "      <td>0</td>\n",
       "    </tr>\n",
       "    <tr>\n",
       "      <th>29980</th>\n",
       "      <td>Raf</td>\n",
       "      <td>Ilj</td>\n",
       "      <td>0</td>\n",
       "    </tr>\n",
       "    <tr>\n",
       "      <th>34055</th>\n",
       "      <td>Manuel</td>\n",
       "      <td>Drejc</td>\n",
       "      <td>0</td>\n",
       "    </tr>\n",
       "  </tbody>\n",
       "</table>\n",
       "</div>"
      ],
      "text/plain": [
       "          name_a      name_b  target\n",
       "40594      Drazo        Burt       0\n",
       "5087        Mose  Miguelinho       0\n",
       "30191       Nina     Electra       0\n",
       "6539   Anneliese      Alphus       0\n",
       "5571    Hermoine       Jouni       0\n",
       "61874        Hob       Nicke       0\n",
       "58522    Nadenka    Kristian       0\n",
       "26993     Jacint     Othello       0\n",
       "29980        Raf         Ilj       0\n",
       "34055     Manuel       Drejc       0"
      ]
     },
     "execution_count": 14,
     "metadata": {},
     "output_type": "execute_result"
    }
   ],
   "source": [
    "non_alt.sample(10)"
   ]
  },
  {
   "cell_type": "code",
   "execution_count": 15,
   "id": "4deee7dd",
   "metadata": {},
   "outputs": [
    {
     "name": "stdout",
     "output_type": "stream",
     "text": [
      "positive class ratio 1:4\n"
     ]
    }
   ],
   "source": [
    "print('positive class ratio 1:{}'.format(int(len(non_alt)/len(df))))"
   ]
  },
  {
   "cell_type": "code",
   "execution_count": 16,
   "id": "281228c9",
   "metadata": {},
   "outputs": [
    {
     "data": {
      "text/plain": [
       "(87550, 3)"
      ]
     },
     "execution_count": 16,
     "metadata": {},
     "output_type": "execute_result"
    }
   ],
   "source": [
    "df = pd.concat([df, non_alt])\n",
    "df.shape"
   ]
  },
  {
   "cell_type": "code",
   "execution_count": 17,
   "id": "d2745799",
   "metadata": {},
   "outputs": [
    {
     "data": {
      "text/html": [
       "<div>\n",
       "<style scoped>\n",
       "    .dataframe tbody tr th:only-of-type {\n",
       "        vertical-align: middle;\n",
       "    }\n",
       "\n",
       "    .dataframe tbody tr th {\n",
       "        vertical-align: top;\n",
       "    }\n",
       "\n",
       "    .dataframe thead th {\n",
       "        text-align: right;\n",
       "    }\n",
       "</style>\n",
       "<table border=\"1\" class=\"dataframe\">\n",
       "  <thead>\n",
       "    <tr style=\"text-align: right;\">\n",
       "      <th></th>\n",
       "      <th>name_a</th>\n",
       "      <th>name_b</th>\n",
       "      <th>target</th>\n",
       "    </tr>\n",
       "  </thead>\n",
       "  <tbody>\n",
       "    <tr>\n",
       "      <th>20191</th>\n",
       "      <td>Lorne</td>\n",
       "      <td>Mertsi</td>\n",
       "      <td>0</td>\n",
       "    </tr>\n",
       "    <tr>\n",
       "      <th>16200</th>\n",
       "      <td>Lele</td>\n",
       "      <td>Andreandrijica</td>\n",
       "      <td>0</td>\n",
       "    </tr>\n",
       "    <tr>\n",
       "      <th>17719</th>\n",
       "      <td>Nadine</td>\n",
       "      <td>Friedrich</td>\n",
       "      <td>0</td>\n",
       "    </tr>\n",
       "    <tr>\n",
       "      <th>37</th>\n",
       "      <td>Antoni</td>\n",
       "      <td>Kikine</td>\n",
       "      <td>0</td>\n",
       "    </tr>\n",
       "    <tr>\n",
       "      <th>25145</th>\n",
       "      <td>Nolle</td>\n",
       "      <td>Mayca</td>\n",
       "      <td>0</td>\n",
       "    </tr>\n",
       "    <tr>\n",
       "      <th>41647</th>\n",
       "      <td>Louanne</td>\n",
       "      <td>Hepsabah</td>\n",
       "      <td>0</td>\n",
       "    </tr>\n",
       "    <tr>\n",
       "      <th>56393</th>\n",
       "      <td>Sica</td>\n",
       "      <td>Luboslav</td>\n",
       "      <td>0</td>\n",
       "    </tr>\n",
       "    <tr>\n",
       "      <th>21691</th>\n",
       "      <td>Krasimir</td>\n",
       "      <td>Trude</td>\n",
       "      <td>0</td>\n",
       "    </tr>\n",
       "    <tr>\n",
       "      <th>56044</th>\n",
       "      <td>Arlene</td>\n",
       "      <td>Eurydice</td>\n",
       "      <td>0</td>\n",
       "    </tr>\n",
       "    <tr>\n",
       "      <th>17154</th>\n",
       "      <td>Xandy</td>\n",
       "      <td>Xan</td>\n",
       "      <td>1</td>\n",
       "    </tr>\n",
       "  </tbody>\n",
       "</table>\n",
       "</div>"
      ],
      "text/plain": [
       "         name_a          name_b  target\n",
       "20191     Lorne          Mertsi       0\n",
       "16200      Lele  Andreandrijica       0\n",
       "17719    Nadine       Friedrich       0\n",
       "37       Antoni          Kikine       0\n",
       "25145     Nolle           Mayca       0\n",
       "41647   Louanne        Hepsabah       0\n",
       "56393      Sica        Luboslav       0\n",
       "21691  Krasimir           Trude       0\n",
       "56044    Arlene        Eurydice       0\n",
       "17154     Xandy             Xan       1"
      ]
     },
     "execution_count": 17,
     "metadata": {},
     "output_type": "execute_result"
    }
   ],
   "source": [
    "df.sample(10)"
   ]
  },
  {
   "cell_type": "code",
   "execution_count": 18,
   "id": "efff05d5",
   "metadata": {},
   "outputs": [
    {
     "data": {
      "text/plain": [
       "Text(0.5, 0, 'Count')"
      ]
     },
     "execution_count": 18,
     "metadata": {},
     "output_type": "execute_result"
    },
    {
     "data": {
      "image/png": "[encoded data removed]",
      "text/plain": [
       "<Figure size 432x288 with 1 Axes>"
      ]
     },
     "metadata": {
      "needs_background": "light"
     },
     "output_type": "display_data"
    }
   ],
   "source": [
    "ax = df.target.value_counts(dropna=False).plot(kind='barh', title='Positive / Negative Classes')\n",
    "ax.set_xlabel('Count')"
   ]
  },
  {
   "cell_type": "code",
   "execution_count": 19,
   "id": "a25e2e03",
   "metadata": {},
   "outputs": [],
   "source": [
    "# Save output to interim data folder as csv file\n",
    "df.to_csv(interim_data + 'pos_neg_class_file.csv', index=False)"
   ]
  },
  {
   "cell_type": "code",
   "execution_count": 20,
   "id": "17fba153",
   "metadata": {},
   "outputs": [
    {
     "name": "stderr",
     "output_type": "stream",
     "text": [
      "Summarize dataset: 100%|██████████| 18/18 [00:04<00:00,  3.84it/s, Completed]                    \n",
      "Generate report structure: 100%|██████████| 1/1 [00:01<00:00,  1.95s/it]\n",
      "Render HTML: 100%|██████████| 1/1 [00:00<00:00,  2.66it/s]\n",
      "Export report to file: 100%|██████████| 1/1 [00:00<00:00, 270.51it/s]\n"
     ]
    }
   ],
   "source": [
    "profile_report = df.profile_report(explorative=True, html={'style': {'full_width': True}})\n",
    "profile_report.to_file(report_figures + \"wrangled_data_profile.html\")"
   ]
  }
 ],
 "metadata": {
  "environment": {
   "kernel": "python3",
   "name": "common-cpu.m93",
   "type": "gcloud",
   "uri": "gcr.io/deeplearning-platform-release/base-cpu:m93"
  },
  "kernelspec": {
   "display_name": "Python 3",
   "language": "python",
   "name": "python3"
  },
  "language_info": {
   "codemirror_mode": {
    "name": "ipython",
    "version": 3
   },
   "file_extension": ".py",
   "mimetype": "text/x-python",
   "name": "python",
   "nbconvert_exporter": "python",
   "pygments_lexer": "ipython3",
   "version": "3.7.12"
  }
 },
 "nbformat": 4,
 "nbformat_minor": 5
}
