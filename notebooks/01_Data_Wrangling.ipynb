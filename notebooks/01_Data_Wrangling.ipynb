{
 "cells": [
  {
   "cell_type": "code",
   "execution_count": 1,
   "id": "3790c962",
   "metadata": {},
   "outputs": [],
   "source": [
    "import pandas as pd\n",
    "import numpy as np\n",
    "import matplotlib.pyplot as plt\n",
    "import seaborn as sns\n",
    "from itertools import combinations\n",
    "import random\n",
    "import pandas_profiling\n",
    "from pandas_profiling.utils.cache import cache_file"
   ]
  },
  {
   "cell_type": "code",
   "execution_count": 2,
   "id": "08447f03",
   "metadata": {},
   "outputs": [],
   "source": [
    "# External Data and Interim Data File Locations\n",
    "ext_data = '../data/external/'\n",
    "interim_data = '../data/interim/'\n",
    "report_figures = '../reports/figures/'"
   ]
  },
  {
   "cell_type": "code",
   "execution_count": 3,
   "id": "5b7e3bbc",
   "metadata": {},
   "outputs": [
    {
     "data": {
      "text/plain": [
       "(17510, 2)"
      ]
     },
     "execution_count": 3,
     "metadata": {},
     "output_type": "execute_result"
    }
   ],
   "source": [
    "df = pd.read_csv(ext_data + 'name_pairs.txt', sep=\",\", names=['name_a', 'name_b'], header=None)\n",
    "df.shape"
   ]
  },
  {
   "cell_type": "code",
   "execution_count": 4,
   "id": "6b3c7463",
   "metadata": {},
   "outputs": [
    {
     "name": "stdout",
     "output_type": "stream",
     "text": [
      "<class 'pandas.core.frame.DataFrame'>\n",
      "RangeIndex: 17510 entries, 0 to 17509\n",
      "Data columns (total 2 columns):\n",
      " #   Column  Non-Null Count  Dtype \n",
      "---  ------  --------------  ----- \n",
      " 0   name_a  17510 non-null  object\n",
      " 1   name_b  17510 non-null  object\n",
      "dtypes: object(2)\n",
      "memory usage: 273.7+ KB\n"
     ]
    }
   ],
   "source": [
    "df.info()"
   ]
  },
  {
   "cell_type": "code",
   "execution_count": 5,
   "id": "062289b7",
   "metadata": {},
   "outputs": [
    {
     "data": {
      "text/html": [
       "<div>\n",
       "<style scoped>\n",
       "    .dataframe tbody tr th:only-of-type {\n",
       "        vertical-align: middle;\n",
       "    }\n",
       "\n",
       "    .dataframe tbody tr th {\n",
       "        vertical-align: top;\n",
       "    }\n",
       "\n",
       "    .dataframe thead th {\n",
       "        text-align: right;\n",
       "    }\n",
       "</style>\n",
       "<table border=\"1\" class=\"dataframe\">\n",
       "  <thead>\n",
       "    <tr style=\"text-align: right;\">\n",
       "      <th></th>\n",
       "      <th>name_a</th>\n",
       "      <th>name_b</th>\n",
       "    </tr>\n",
       "  </thead>\n",
       "  <tbody>\n",
       "    <tr>\n",
       "      <th>2906</th>\n",
       "      <td>Cleatus</td>\n",
       "      <td>Cleat</td>\n",
       "    </tr>\n",
       "    <tr>\n",
       "      <th>9755</th>\n",
       "      <td>Mage</td>\n",
       "      <td>Madeline</td>\n",
       "    </tr>\n",
       "    <tr>\n",
       "      <th>8173</th>\n",
       "      <td>Kircho</td>\n",
       "      <td>Kirli</td>\n",
       "    </tr>\n",
       "    <tr>\n",
       "      <th>6082</th>\n",
       "      <td>Ica</td>\n",
       "      <td>Izlo</td>\n",
       "    </tr>\n",
       "    <tr>\n",
       "      <th>7907</th>\n",
       "      <td>Kate</td>\n",
       "      <td>Kathe</td>\n",
       "    </tr>\n",
       "    <tr>\n",
       "      <th>14081</th>\n",
       "      <td>Rita</td>\n",
       "      <td>Moll</td>\n",
       "    </tr>\n",
       "    <tr>\n",
       "      <th>1372</th>\n",
       "      <td>Barbe</td>\n",
       "      <td>Barbare</td>\n",
       "    </tr>\n",
       "    <tr>\n",
       "      <th>7455</th>\n",
       "      <td>Jorge</td>\n",
       "      <td>Coque</td>\n",
       "    </tr>\n",
       "    <tr>\n",
       "      <th>4590</th>\n",
       "      <td>Eugen</td>\n",
       "      <td>Gen</td>\n",
       "    </tr>\n",
       "    <tr>\n",
       "      <th>5823</th>\n",
       "      <td>Helme</td>\n",
       "      <td>Wilma</td>\n",
       "    </tr>\n",
       "  </tbody>\n",
       "</table>\n",
       "</div>"
      ],
      "text/plain": [
       "        name_a    name_b\n",
       "2906   Cleatus     Cleat\n",
       "9755      Mage  Madeline\n",
       "8173    Kircho     Kirli\n",
       "6082       Ica      Izlo\n",
       "7907      Kate     Kathe\n",
       "14081     Rita      Moll\n",
       "1372     Barbe   Barbare\n",
       "7455     Jorge     Coque\n",
       "4590     Eugen       Gen\n",
       "5823     Helme     Wilma"
      ]
     },
     "execution_count": 5,
     "metadata": {},
     "output_type": "execute_result"
    }
   ],
   "source": [
    "df.sample(10)"
   ]
  },
  {
   "cell_type": "code",
   "execution_count": 6,
   "id": "933fe5db",
   "metadata": {},
   "outputs": [],
   "source": [
    "# Positive Class\n",
    "df['target'] = 1"
   ]
  },
  {
   "cell_type": "markdown",
   "id": "f25b5c25",
   "metadata": {},
   "source": [
    "### Create Random Sample of Negative Class"
   ]
  },
  {
   "cell_type": "code",
   "execution_count": 7,
   "id": "b93d849a",
   "metadata": {},
   "outputs": [
    {
     "name": "stdout",
     "output_type": "stream",
     "text": [
      "17510\n"
     ]
    },
    {
     "data": {
      "text/plain": [
       "[['Aad', 'Adriaan'],\n",
       " ['Aake', 'Aarne'],\n",
       " ['Aake', 'Aarno'],\n",
       " ['Aake', 'Arska'],\n",
       " ['Aandrea', 'Drea']]"
      ]
     },
     "execution_count": 7,
     "metadata": {},
     "output_type": "execute_result"
    }
   ],
   "source": [
    "all_names = df.loc[:, 'name_a':'name_b'].values.tolist()\n",
    "print(len(all_names))\n",
    "all_names[:5]"
   ]
  },
  {
   "cell_type": "code",
   "execution_count": 8,
   "id": "804dc626",
   "metadata": {},
   "outputs": [
    {
     "name": "stdout",
     "output_type": "stream",
     "text": [
      "5877\n"
     ]
    },
    {
     "data": {
      "text/plain": [
       "['Edmund', 'Augusto', 'Desmond', 'Zack', 'Frannie']"
      ]
     },
     "execution_count": 8,
     "metadata": {},
     "output_type": "execute_result"
    }
   ],
   "source": [
    "unique_names = list(set([item for items in all_names for item in items]))\n",
    "print(len(unique_names))\n",
    "unique_names[:5]"
   ]
  },
  {
   "cell_type": "code",
   "execution_count": 9,
   "id": "aa09b282",
   "metadata": {},
   "outputs": [
    {
     "name": "stdout",
     "output_type": "stream",
     "text": [
      "35020\n"
     ]
    },
    {
     "data": {
      "text/plain": [
       "[('Aad', 'Adriaan'),\n",
       " ('Aake', 'Aarne'),\n",
       " ('Aake', 'Aarno'),\n",
       " ('Aake', 'Arska'),\n",
       " ('Aandrea', 'Drea')]"
      ]
     },
     "execution_count": 9,
     "metadata": {},
     "output_type": "execute_result"
    }
   ],
   "source": [
    "alt_pairs = list(zip(df.name_a, df.name_b))+ list(zip(df.name_b, df.name_a))\n",
    "print(len(alt_pairs))\n",
    "alt_pairs[:5]"
   ]
  },
  {
   "cell_type": "code",
   "execution_count": 10,
   "id": "ee410697",
   "metadata": {},
   "outputs": [
    {
     "name": "stdout",
     "output_type": "stream",
     "text": [
      "17266626\n"
     ]
    },
    {
     "data": {
      "text/plain": [
       "[('Edmund', 'Augusto'),\n",
       " ('Edmund', 'Desmond'),\n",
       " ('Edmund', 'Zack'),\n",
       " ('Edmund', 'Frannie'),\n",
       " ('Edmund', 'Nerva')]"
      ]
     },
     "execution_count": 10,
     "metadata": {},
     "output_type": "execute_result"
    }
   ],
   "source": [
    "comb = list(combinations(unique_names, 2))\n",
    "print(len(comb))\n",
    "comb[:5]"
   ]
  },
  {
   "cell_type": "code",
   "execution_count": 11,
   "id": "035a61f9",
   "metadata": {},
   "outputs": [
    {
     "name": "stdout",
     "output_type": "stream",
     "text": [
      "17249462\n"
     ]
    },
    {
     "data": {
      "text/plain": [
       "[('Wessie', 'Zdenka'),\n",
       " ('Sonya', 'Annukka'),\n",
       " ('Anndran', 'Pyotr'),\n",
       " ('Nellie', 'Nabbe'),\n",
       " ('Pig', 'Zacky')]"
      ]
     },
     "execution_count": 11,
     "metadata": {},
     "output_type": "execute_result"
    }
   ],
   "source": [
    "non_alt = list(set(comb) - set(alt_pairs))\n",
    "print(len(non_alt))\n",
    "non_alt[:5]"
   ]
  },
  {
   "cell_type": "code",
   "execution_count": 12,
   "id": "837a96fd",
   "metadata": {},
   "outputs": [
    {
     "data": {
      "text/plain": [
       "(70040, 2)"
      ]
     },
     "execution_count": 12,
     "metadata": {},
     "output_type": "execute_result"
    }
   ],
   "source": [
    "# Undersample the negative class for 1:4 class imbalance instead of 1:1000 extreme class imbalance\n",
    "non_alt = pd.DataFrame(random.choices(non_alt, k=70040), columns=['name_a', 'name_b'])\n",
    "non_alt.shape"
   ]
  },
  {
   "cell_type": "code",
   "execution_count": 13,
   "id": "e22e6008",
   "metadata": {},
   "outputs": [],
   "source": [
    "# Negative Class\n",
    "non_alt['target'] = 0"
   ]
  },
  {
   "cell_type": "code",
   "execution_count": 14,
   "id": "cf1b9ff0",
   "metadata": {},
   "outputs": [
    {
     "data": {
      "text/html": [
       "<div>\n",
       "<style scoped>\n",
       "    .dataframe tbody tr th:only-of-type {\n",
       "        vertical-align: middle;\n",
       "    }\n",
       "\n",
       "    .dataframe tbody tr th {\n",
       "        vertical-align: top;\n",
       "    }\n",
       "\n",
       "    .dataframe thead th {\n",
       "        text-align: right;\n",
       "    }\n",
       "</style>\n",
       "<table border=\"1\" class=\"dataframe\">\n",
       "  <thead>\n",
       "    <tr style=\"text-align: right;\">\n",
       "      <th></th>\n",
       "      <th>name_a</th>\n",
       "      <th>name_b</th>\n",
       "      <th>target</th>\n",
       "    </tr>\n",
       "  </thead>\n",
       "  <tbody>\n",
       "    <tr>\n",
       "      <th>54619</th>\n",
       "      <td>Ica</td>\n",
       "      <td>Morrison</td>\n",
       "      <td>0</td>\n",
       "    </tr>\n",
       "    <tr>\n",
       "      <th>33613</th>\n",
       "      <td>Fernan</td>\n",
       "      <td>Pepe</td>\n",
       "      <td>0</td>\n",
       "    </tr>\n",
       "    <tr>\n",
       "      <th>49377</th>\n",
       "      <td>Memmu</td>\n",
       "      <td>Clay</td>\n",
       "      <td>0</td>\n",
       "    </tr>\n",
       "    <tr>\n",
       "      <th>7298</th>\n",
       "      <td>Ivonka</td>\n",
       "      <td>Marce</td>\n",
       "      <td>0</td>\n",
       "    </tr>\n",
       "    <tr>\n",
       "      <th>4282</th>\n",
       "      <td>Paula</td>\n",
       "      <td>Zofka</td>\n",
       "      <td>0</td>\n",
       "    </tr>\n",
       "    <tr>\n",
       "      <th>47833</th>\n",
       "      <td>Norman</td>\n",
       "      <td>William</td>\n",
       "      <td>0</td>\n",
       "    </tr>\n",
       "    <tr>\n",
       "      <th>1015</th>\n",
       "      <td>Mladen</td>\n",
       "      <td>Jakubeczek</td>\n",
       "      <td>0</td>\n",
       "    </tr>\n",
       "    <tr>\n",
       "      <th>45040</th>\n",
       "      <td>Vilmos</td>\n",
       "      <td>Ion</td>\n",
       "      <td>0</td>\n",
       "    </tr>\n",
       "    <tr>\n",
       "      <th>9677</th>\n",
       "      <td>Maciek</td>\n",
       "      <td>Panna</td>\n",
       "      <td>0</td>\n",
       "    </tr>\n",
       "    <tr>\n",
       "      <th>5625</th>\n",
       "      <td>Cilla</td>\n",
       "      <td>Eeva</td>\n",
       "      <td>0</td>\n",
       "    </tr>\n",
       "  </tbody>\n",
       "</table>\n",
       "</div>"
      ],
      "text/plain": [
       "       name_a      name_b  target\n",
       "54619     Ica    Morrison       0\n",
       "33613  Fernan        Pepe       0\n",
       "49377   Memmu        Clay       0\n",
       "7298   Ivonka       Marce       0\n",
       "4282    Paula       Zofka       0\n",
       "47833  Norman     William       0\n",
       "1015   Mladen  Jakubeczek       0\n",
       "45040  Vilmos         Ion       0\n",
       "9677   Maciek       Panna       0\n",
       "5625    Cilla        Eeva       0"
      ]
     },
     "execution_count": 14,
     "metadata": {},
     "output_type": "execute_result"
    }
   ],
   "source": [
    "non_alt.sample(10)"
   ]
  },
  {
   "cell_type": "code",
   "execution_count": 15,
   "id": "c744b0cb",
   "metadata": {},
   "outputs": [
    {
     "name": "stdout",
     "output_type": "stream",
     "text": [
      "positive class ratio 1:4\n"
     ]
    }
   ],
   "source": [
    "print('positive class ratio 1:{}'.format(int(len(non_alt)/len(df))))"
   ]
  },
  {
   "cell_type": "code",
   "execution_count": 16,
   "id": "33d40a96",
   "metadata": {},
   "outputs": [
    {
     "data": {
      "text/plain": [
       "(87550, 3)"
      ]
     },
     "execution_count": 16,
     "metadata": {},
     "output_type": "execute_result"
    }
   ],
   "source": [
    "df = pd.concat([df, non_alt])\n",
    "df.shape"
   ]
  },
  {
   "cell_type": "code",
   "execution_count": 17,
   "id": "75aaff27",
   "metadata": {},
   "outputs": [
    {
     "data": {
      "text/html": [
       "<div>\n",
       "<style scoped>\n",
       "    .dataframe tbody tr th:only-of-type {\n",
       "        vertical-align: middle;\n",
       "    }\n",
       "\n",
       "    .dataframe tbody tr th {\n",
       "        vertical-align: top;\n",
       "    }\n",
       "\n",
       "    .dataframe thead th {\n",
       "        text-align: right;\n",
       "    }\n",
       "</style>\n",
       "<table border=\"1\" class=\"dataframe\">\n",
       "  <thead>\n",
       "    <tr style=\"text-align: right;\">\n",
       "      <th></th>\n",
       "      <th>name_a</th>\n",
       "      <th>name_b</th>\n",
       "      <th>target</th>\n",
       "    </tr>\n",
       "  </thead>\n",
       "  <tbody>\n",
       "    <tr>\n",
       "      <th>13853</th>\n",
       "      <td>Pig</td>\n",
       "      <td>Luanne</td>\n",
       "      <td>0</td>\n",
       "    </tr>\n",
       "    <tr>\n",
       "      <th>12259</th>\n",
       "      <td>Natte</td>\n",
       "      <td>Natalie</td>\n",
       "      <td>1</td>\n",
       "    </tr>\n",
       "    <tr>\n",
       "      <th>12491</th>\n",
       "      <td>Nibbe</td>\n",
       "      <td>Belle</td>\n",
       "      <td>1</td>\n",
       "    </tr>\n",
       "    <tr>\n",
       "      <th>51692</th>\n",
       "      <td>Pavel</td>\n",
       "      <td>Christel</td>\n",
       "      <td>0</td>\n",
       "    </tr>\n",
       "    <tr>\n",
       "      <th>41123</th>\n",
       "      <td>Hattie</td>\n",
       "      <td>Nae</td>\n",
       "      <td>0</td>\n",
       "    </tr>\n",
       "    <tr>\n",
       "      <th>61165</th>\n",
       "      <td>Adde</td>\n",
       "      <td>Libena</td>\n",
       "      <td>0</td>\n",
       "    </tr>\n",
       "    <tr>\n",
       "      <th>4707</th>\n",
       "      <td>Felcia</td>\n",
       "      <td>Felka</td>\n",
       "      <td>1</td>\n",
       "    </tr>\n",
       "    <tr>\n",
       "      <th>3273</th>\n",
       "      <td>Del</td>\n",
       "      <td>Elbert</td>\n",
       "      <td>1</td>\n",
       "    </tr>\n",
       "    <tr>\n",
       "      <th>11497</th>\n",
       "      <td>Pato</td>\n",
       "      <td>Nelu</td>\n",
       "      <td>0</td>\n",
       "    </tr>\n",
       "    <tr>\n",
       "      <th>60867</th>\n",
       "      <td>Boro</td>\n",
       "      <td>Marga</td>\n",
       "      <td>0</td>\n",
       "    </tr>\n",
       "  </tbody>\n",
       "</table>\n",
       "</div>"
      ],
      "text/plain": [
       "       name_a    name_b  target\n",
       "13853     Pig    Luanne       0\n",
       "12259   Natte   Natalie       1\n",
       "12491   Nibbe     Belle       1\n",
       "51692   Pavel  Christel       0\n",
       "41123  Hattie       Nae       0\n",
       "61165    Adde    Libena       0\n",
       "4707   Felcia     Felka       1\n",
       "3273      Del    Elbert       1\n",
       "11497    Pato      Nelu       0\n",
       "60867    Boro     Marga       0"
      ]
     },
     "execution_count": 17,
     "metadata": {},
     "output_type": "execute_result"
    }
   ],
   "source": [
    "df.sample(10)"
   ]
  },
  {
   "cell_type": "code",
   "execution_count": 18,
   "id": "66542b7d",
   "metadata": {},
   "outputs": [
    {
     "data": {
      "text/plain": [
       "Text(0.5, 0, 'Count')"
      ]
     },
     "execution_count": 18,
     "metadata": {},
     "output_type": "execute_result"
    },
    {
     "data": {
      "image/png": "[encoded data removed]",
      "text/plain": [
       "<Figure size 432x288 with 1 Axes>"
      ]
     },
     "metadata": {
      "needs_background": "light"
     },
     "output_type": "display_data"
    }
   ],
   "source": [
    "ax = df.target.value_counts(dropna=False).plot(kind='barh', title='Positive / Negative Classes')\n",
    "ax.set_xlabel('Count')"
   ]
  },
  {
   "cell_type": "code",
   "execution_count": 19,
   "id": "f3345181",
   "metadata": {},
   "outputs": [],
   "source": [
    "# Save output to interim data folder as csv file\n",
    "df.to_csv(interim_data + 'pos_neg_class_file.csv', index=False)"
   ]
  },
  {
   "cell_type": "code",
   "execution_count": 20,
   "id": "647fc942",
   "metadata": {},
   "outputs": [
    {
     "data": {
      "application/vnd.jupyter.widget-view+json": {
       "model_id": "f5b1fc6fc1454199aead22fbc62609a7",
       "version_major": 2,
       "version_minor": 0
      },
      "text/plain": [
       "Summarize dataset:   0%|          | 0/18 [00:00<?, ?it/s]"
      ]
     },
     "metadata": {},
     "output_type": "display_data"
    },
    {
     "data": {
      "application/vnd.jupyter.widget-view+json": {
       "model_id": "53b35566928d49cf9e37160e27964646",
       "version_major": 2,
       "version_minor": 0
      },
      "text/plain": [
       "Generate report structure:   0%|          | 0/1 [00:00<?, ?it/s]"
      ]
     },
     "metadata": {},
     "output_type": "display_data"
    },
    {
     "data": {
      "application/vnd.jupyter.widget-view+json": {
       "model_id": "77469e9bf6d64bdd95fe147184c0fef2",
       "version_major": 2,
       "version_minor": 0
      },
      "text/plain": [
       "Render HTML:   0%|          | 0/1 [00:00<?, ?it/s]"
      ]
     },
     "metadata": {},
     "output_type": "display_data"
    },
    {
     "data": {
      "application/vnd.jupyter.widget-view+json": {
       "model_id": "d561961247024e86b1bee72eea9d1bac",
       "version_major": 2,
       "version_minor": 0
      },
      "text/plain": [
       "Export report to file:   0%|          | 0/1 [00:00<?, ?it/s]"
      ]
     },
     "metadata": {},
     "output_type": "display_data"
    }
   ],
   "source": [
    "profile_report = df.profile_report(explorative=True, html={'style': {'full_width': True}})\n",
    "profile_report.to_file(report_figures + \"wrangled_data_profile.html\")"
   ]
  }
 ],
 "metadata": {
  "kernelspec": {
   "display_name": "Python 3 (ipykernel)",
   "language": "python",
   "name": "python3"
  },
  "language_info": {
   "codemirror_mode": {
    "name": "ipython",
    "version": 3
   },
   "file_extension": ".py",
   "mimetype": "text/x-python",
   "name": "python",
   "nbconvert_exporter": "python",
   "pygments_lexer": "ipython3",
   "version": "3.9.7"
  }
 },
 "nbformat": 4,
 "nbformat_minor": 5
}
