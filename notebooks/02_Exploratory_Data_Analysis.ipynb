{
 "cells": [
  {
   "cell_type": "code",
   "execution_count": 1,
   "id": "71b41a32",
   "metadata": {},
   "outputs": [],
   "source": [
    "import pandas as pd\n",
    "import numpy as np\n",
    "import matplotlib.pyplot as plt\n",
    "import seaborn as sns"
   ]
  },
  {
   "cell_type": "code",
   "execution_count": 2,
   "id": "78885899",
   "metadata": {},
   "outputs": [],
   "source": [
    "# Interim Data File Locations\n",
    "interim_data = '../data/interim/'"
   ]
  },
  {
   "cell_type": "code",
   "execution_count": 3,
   "id": "6e521c51",
   "metadata": {},
   "outputs": [
    {
     "data": {
      "text/plain": [
       "(87550, 3)"
      ]
     },
     "execution_count": 3,
     "metadata": {},
     "output_type": "execute_result"
    }
   ],
   "source": [
    "df = pd.read_csv(interim_data + 'pos_neg_class_file.csv')\n",
    "df.shape"
   ]
  },
  {
   "cell_type": "code",
   "execution_count": 4,
   "id": "9d5000eb",
   "metadata": {},
   "outputs": [
    {
     "data": {
      "text/html": [
       "<div>\n",
       "<style scoped>\n",
       "    .dataframe tbody tr th:only-of-type {\n",
       "        vertical-align: middle;\n",
       "    }\n",
       "\n",
       "    .dataframe tbody tr th {\n",
       "        vertical-align: top;\n",
       "    }\n",
       "\n",
       "    .dataframe thead th {\n",
       "        text-align: right;\n",
       "    }\n",
       "</style>\n",
       "<table border=\"1\" class=\"dataframe\">\n",
       "  <thead>\n",
       "    <tr style=\"text-align: right;\">\n",
       "      <th></th>\n",
       "      <th>name_a</th>\n",
       "      <th>name_b</th>\n",
       "      <th>target</th>\n",
       "    </tr>\n",
       "  </thead>\n",
       "  <tbody>\n",
       "    <tr>\n",
       "      <th>25461</th>\n",
       "      <td>Montserrat</td>\n",
       "      <td>Gerdale</td>\n",
       "      <td>0</td>\n",
       "    </tr>\n",
       "    <tr>\n",
       "      <th>46215</th>\n",
       "      <td>Natius</td>\n",
       "      <td>Joann</td>\n",
       "      <td>0</td>\n",
       "    </tr>\n",
       "    <tr>\n",
       "      <th>76133</th>\n",
       "      <td>Sid</td>\n",
       "      <td>Yul</td>\n",
       "      <td>0</td>\n",
       "    </tr>\n",
       "    <tr>\n",
       "      <th>51961</th>\n",
       "      <td>Christi</td>\n",
       "      <td>Joaninha</td>\n",
       "      <td>0</td>\n",
       "    </tr>\n",
       "    <tr>\n",
       "      <th>60609</th>\n",
       "      <td>Norman</td>\n",
       "      <td>Blagi</td>\n",
       "      <td>0</td>\n",
       "    </tr>\n",
       "    <tr>\n",
       "      <th>87209</th>\n",
       "      <td>Kentaro</td>\n",
       "      <td>Chloe</td>\n",
       "      <td>0</td>\n",
       "    </tr>\n",
       "    <tr>\n",
       "      <th>36050</th>\n",
       "      <td>Matteo</td>\n",
       "      <td>Agge</td>\n",
       "      <td>0</td>\n",
       "    </tr>\n",
       "    <tr>\n",
       "      <th>9106</th>\n",
       "      <td>Liz</td>\n",
       "      <td>Bet</td>\n",
       "      <td>1</td>\n",
       "    </tr>\n",
       "    <tr>\n",
       "      <th>59568</th>\n",
       "      <td>Xandra</td>\n",
       "      <td>Ovidiu</td>\n",
       "      <td>0</td>\n",
       "    </tr>\n",
       "    <tr>\n",
       "      <th>27328</th>\n",
       "      <td>Dolo</td>\n",
       "      <td>Cornelia</td>\n",
       "      <td>0</td>\n",
       "    </tr>\n",
       "  </tbody>\n",
       "</table>\n",
       "</div>"
      ],
      "text/plain": [
       "           name_a    name_b  target\n",
       "25461  Montserrat   Gerdale       0\n",
       "46215      Natius     Joann       0\n",
       "76133         Sid       Yul       0\n",
       "51961     Christi  Joaninha       0\n",
       "60609      Norman     Blagi       0\n",
       "87209     Kentaro     Chloe       0\n",
       "36050      Matteo      Agge       0\n",
       "9106          Liz       Bet       1\n",
       "59568      Xandra    Ovidiu       0\n",
       "27328        Dolo  Cornelia       0"
      ]
     },
     "execution_count": 4,
     "metadata": {},
     "output_type": "execute_result"
    }
   ],
   "source": [
    "df.sample(10)"
   ]
  },
  {
   "cell_type": "code",
   "execution_count": 5,
   "id": "e4bd815b",
   "metadata": {},
   "outputs": [],
   "source": [
    "# Save output to interim data folder as csv file\n",
    "df.to_csv(interim_data + 'eda_results.csv', index=False)"
   ]
  }
 ],
 "metadata": {
  "kernelspec": {
   "display_name": "Python 3 (ipykernel)",
   "language": "python",
   "name": "python3"
  },
  "language_info": {
   "codemirror_mode": {
    "name": "ipython",
    "version": 3
   },
   "file_extension": ".py",
   "mimetype": "text/x-python",
   "name": "python",
   "nbconvert_exporter": "python",
   "pygments_lexer": "ipython3",
   "version": "3.8.13"
  }
 },
 "nbformat": 4,
 "nbformat_minor": 5
}
