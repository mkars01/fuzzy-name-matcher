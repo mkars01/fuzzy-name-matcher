{
 "cells": [
  {
   "cell_type": "code",
   "execution_count": 1,
   "id": "96ba3144",
   "metadata": {},
   "outputs": [],
   "source": [
    "import pandas as pd\n",
    "import numpy as np\n",
    "import matplotlib.pyplot as plt\n",
    "import seaborn as sns"
   ]
  },
  {
   "cell_type": "code",
   "execution_count": 2,
   "id": "ad23ccec",
   "metadata": {},
   "outputs": [],
   "source": [
    "# Interim Data File Locations\n",
    "interim_data = '../data/interim/'"
   ]
  },
  {
   "cell_type": "code",
   "execution_count": 3,
   "id": "fa42f55b",
   "metadata": {},
   "outputs": [
    {
     "data": {
      "text/plain": [
       "(87550, 3)"
      ]
     },
     "execution_count": 3,
     "metadata": {},
     "output_type": "execute_result"
    }
   ],
   "source": [
    "df = pd.read_csv(interim_data + 'pos_neg_class_file.csv')\n",
    "df.shape"
   ]
  },
  {
   "cell_type": "code",
   "execution_count": 4,
   "id": "94099564",
   "metadata": {},
   "outputs": [
    {
     "data": {
      "text/html": [
       "<div>\n",
       "<style scoped>\n",
       "    .dataframe tbody tr th:only-of-type {\n",
       "        vertical-align: middle;\n",
       "    }\n",
       "\n",
       "    .dataframe tbody tr th {\n",
       "        vertical-align: top;\n",
       "    }\n",
       "\n",
       "    .dataframe thead th {\n",
       "        text-align: right;\n",
       "    }\n",
       "</style>\n",
       "<table border=\"1\" class=\"dataframe\">\n",
       "  <thead>\n",
       "    <tr style=\"text-align: right;\">\n",
       "      <th></th>\n",
       "      <th>name_a</th>\n",
       "      <th>name_b</th>\n",
       "      <th>target</th>\n",
       "    </tr>\n",
       "  </thead>\n",
       "  <tbody>\n",
       "    <tr>\n",
       "      <th>28800</th>\n",
       "      <td>Israel</td>\n",
       "      <td>Sui</td>\n",
       "      <td>0</td>\n",
       "    </tr>\n",
       "    <tr>\n",
       "      <th>224</th>\n",
       "      <td>Agge</td>\n",
       "      <td>Agatha</td>\n",
       "      <td>1</td>\n",
       "    </tr>\n",
       "    <tr>\n",
       "      <th>18733</th>\n",
       "      <td>Phene</td>\n",
       "      <td>Jagienka</td>\n",
       "      <td>0</td>\n",
       "    </tr>\n",
       "    <tr>\n",
       "      <th>79339</th>\n",
       "      <td>Minnamaria</td>\n",
       "      <td>Tricia</td>\n",
       "      <td>0</td>\n",
       "    </tr>\n",
       "    <tr>\n",
       "      <th>16561</th>\n",
       "      <td>Veki</td>\n",
       "      <td>Veljo</td>\n",
       "      <td>1</td>\n",
       "    </tr>\n",
       "    <tr>\n",
       "      <th>65894</th>\n",
       "      <td>Laura</td>\n",
       "      <td>Nana</td>\n",
       "      <td>0</td>\n",
       "    </tr>\n",
       "    <tr>\n",
       "      <th>53789</th>\n",
       "      <td>Angela</td>\n",
       "      <td>Jagna</td>\n",
       "      <td>0</td>\n",
       "    </tr>\n",
       "    <tr>\n",
       "      <th>15617</th>\n",
       "      <td>Tanyusha</td>\n",
       "      <td>Tanushka</td>\n",
       "      <td>1</td>\n",
       "    </tr>\n",
       "    <tr>\n",
       "      <th>46736</th>\n",
       "      <td>Olubode</td>\n",
       "      <td>Fela</td>\n",
       "      <td>0</td>\n",
       "    </tr>\n",
       "    <tr>\n",
       "      <th>32674</th>\n",
       "      <td>Grisha</td>\n",
       "      <td>Laura</td>\n",
       "      <td>0</td>\n",
       "    </tr>\n",
       "  </tbody>\n",
       "</table>\n",
       "</div>"
      ],
      "text/plain": [
       "           name_a    name_b  target\n",
       "28800      Israel       Sui       0\n",
       "224          Agge    Agatha       1\n",
       "18733       Phene  Jagienka       0\n",
       "79339  Minnamaria    Tricia       0\n",
       "16561        Veki     Veljo       1\n",
       "65894       Laura      Nana       0\n",
       "53789      Angela     Jagna       0\n",
       "15617    Tanyusha  Tanushka       1\n",
       "46736     Olubode      Fela       0\n",
       "32674      Grisha     Laura       0"
      ]
     },
     "execution_count": 4,
     "metadata": {},
     "output_type": "execute_result"
    }
   ],
   "source": [
    "df.sample(10)"
   ]
  },
  {
   "cell_type": "code",
   "execution_count": 5,
   "id": "9af494b5",
   "metadata": {},
   "outputs": [],
   "source": [
    "# Save output to interim data folder as csv file\n",
    "df.to_csv(interim_data + 'eda_results.csv', index=False)"
   ]
  }
 ],
 "metadata": {
  "kernelspec": {
   "display_name": "Python 3 (ipykernel)",
   "language": "python",
   "name": "python3"
  },
  "language_info": {
   "codemirror_mode": {
    "name": "ipython",
    "version": 3
   },
   "file_extension": ".py",
   "mimetype": "text/x-python",
   "name": "python",
   "nbconvert_exporter": "python",
   "pygments_lexer": "ipython3",
   "version": "3.9.7"
  }
 },
 "nbformat": 4,
 "nbformat_minor": 5
}
