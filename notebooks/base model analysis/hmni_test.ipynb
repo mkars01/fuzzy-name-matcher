{
 "cells": [
  {
   "cell_type": "code",
   "execution_count": 1,
   "id": "bd54a02b",
   "metadata": {},
   "outputs": [],
   "source": [
    "import hmni"
   ]
  },
  {
   "cell_type": "code",
   "execution_count": 2,
   "id": "d81704e1",
   "metadata": {},
   "outputs": [],
   "source": [
    "matcher = hmni.Matcher(model='latin')"
   ]
  },
  {
   "cell_type": "code",
   "execution_count": 3,
   "id": "3161a43c",
   "metadata": {},
   "outputs": [
    {
     "data": {
      "text/plain": [
       "0.6838304857241245"
      ]
     },
     "execution_count": 3,
     "metadata": {},
     "output_type": "execute_result"
    }
   ],
   "source": [
    "matcher.similarity('Alan', 'Al')"
   ]
  },
  {
   "cell_type": "code",
   "execution_count": 4,
   "id": "241f3731",
   "metadata": {},
   "outputs": [
    {
     "data": {
      "text/plain": [
       "0"
      ]
     },
     "execution_count": 4,
     "metadata": {},
     "output_type": "execute_result"
    }
   ],
   "source": [
    "matcher.similarity('kizza', 'wally')"
   ]
  },
  {
   "cell_type": "code",
   "execution_count": 5,
   "id": "9825eac5",
   "metadata": {},
   "outputs": [
    {
     "data": {
      "text/plain": [
       "0.9805892172440251"
      ]
     },
     "execution_count": 5,
     "metadata": {},
     "output_type": "execute_result"
    }
   ],
   "source": [
    "matcher.similarity('lavinia', 'lavina')"
   ]
  },
  {
   "cell_type": "code",
   "execution_count": 6,
   "id": "8d3d817d",
   "metadata": {},
   "outputs": [
    {
     "data": {
      "text/plain": [
       "0.8283667713321254"
      ]
     },
     "execution_count": 6,
     "metadata": {},
     "output_type": "execute_result"
    }
   ],
   "source": [
    "matcher.similarity('bourque', 'bork')"
   ]
  }
 ],
 "metadata": {
  "kernelspec": {
   "display_name": "Python 3 (ipykernel)",
   "language": "python",
   "name": "python3"
  },
  "language_info": {
   "codemirror_mode": {
    "name": "ipython",
    "version": 3
   },
   "file_extension": ".py",
   "mimetype": "text/x-python",
   "name": "python",
   "nbconvert_exporter": "python",
   "pygments_lexer": "ipython3",
   "version": "3.8.13"
  }
 },
 "nbformat": 4,
 "nbformat_minor": 5
}
